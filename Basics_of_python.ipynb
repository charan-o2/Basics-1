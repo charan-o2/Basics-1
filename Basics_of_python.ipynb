{
  "nbformat": 4,
  "nbformat_minor": 0,
  "metadata": {
    "colab": {
      "name": "Basics of python.ipynb",
      "provenance": [],
      "authorship_tag": "ABX9TyNTygBKqvYyWpHHnoAgjRqX",
      "include_colab_link": true
    },
    "kernelspec": {
      "name": "python3",
      "display_name": "Python 3"
    }
  },
  "cells": [
    {
      "cell_type": "markdown",
      "metadata": {
        "id": "view-in-github",
        "colab_type": "text"
      },
      "source": [
        "<a href=\"https://colab.research.google.com/github/charan-o2/Basics-1/blob/main/Basics_of_python.ipynb\" target=\"_parent\"><img src=\"https://colab.research.google.com/assets/colab-badge.svg\" alt=\"Open In Colab\"/></a>"
      ]
    },
    {
      "cell_type": "markdown",
      "metadata": {
        "id": "sL7K13SxwpUg"
      },
      "source": [
        "Fundamaentals of python:\n",
        "1.inbuilt functions\n",
        "2.variables\n",
        "3.data types\n",
        "4.conditions\n",
        "5.loops"
      ]
    },
    {
      "cell_type": "code",
      "metadata": {
        "id": "VALWD5d-jpTf",
        "colab": {
          "base_uri": "https://localhost:8080/"
        },
        "outputId": "fd9806db-81f0-4cb5-b0ed-97ec3855153d"
      },
      "source": [
        "print(\"hello world\")"
      ],
      "execution_count": null,
      "outputs": [
        {
          "output_type": "stream",
          "text": [
            "hello world\n"
          ],
          "name": "stdout"
        }
      ]
    },
    {
      "cell_type": "code",
      "metadata": {
        "colab": {
          "base_uri": "https://localhost:8080/"
        },
        "id": "Wtn2SVexjrSI",
        "outputId": "6f821647-a736-4b5e-8007-1f8d28a7c43a"
      },
      "source": [
        "1+2"
      ],
      "execution_count": null,
      "outputs": [
        {
          "output_type": "execute_result",
          "data": {
            "text/plain": [
              "3"
            ]
          },
          "metadata": {
            "tags": []
          },
          "execution_count": 2
        }
      ]
    },
    {
      "cell_type": "code",
      "metadata": {
        "colab": {
          "base_uri": "https://localhost:8080/"
        },
        "id": "1T92AhDmxl7F",
        "outputId": "de418e93-3610-47ed-8520-baa05274a59b"
      },
      "source": [
        "5-6"
      ],
      "execution_count": null,
      "outputs": [
        {
          "output_type": "execute_result",
          "data": {
            "text/plain": [
              "-1"
            ]
          },
          "metadata": {
            "tags": []
          },
          "execution_count": 3
        }
      ]
    },
    {
      "cell_type": "code",
      "metadata": {
        "colab": {
          "base_uri": "https://localhost:8080/"
        },
        "id": "2Ct2q7kixoMC",
        "outputId": "46faf0de-15e1-4124-d5f8-6a4d41212d11"
      },
      "source": [
        "a=\"charan\"\n",
        "type(a)"
      ],
      "execution_count": null,
      "outputs": [
        {
          "output_type": "execute_result",
          "data": {
            "text/plain": [
              "str"
            ]
          },
          "metadata": {
            "tags": []
          },
          "execution_count": 5
        }
      ]
    },
    {
      "cell_type": "code",
      "metadata": {
        "colab": {
          "base_uri": "https://localhost:8080/"
        },
        "id": "8GaillcBx-6n",
        "outputId": "e1b297dd-01a8-4d0c-b20a-e27313a5da91"
      },
      "source": [
        "a=int(input(\"enter the number?\"))\n",
        "if a%2==0:\n",
        "  print(\"the number is even\")\n",
        "else:\n",
        "  print(\"the number is odd\")"
      ],
      "execution_count": null,
      "outputs": [
        {
          "output_type": "stream",
          "text": [
            "enter the number?56\n",
            "the number is even\n"
          ],
          "name": "stdout"
        }
      ]
    },
    {
      "cell_type": "code",
      "metadata": {
        "colab": {
          "base_uri": "https://localhost:8080/"
        },
        "id": "3YZWqBlizcqt",
        "outputId": "90026d00-058e-4cae-9b1b-6d4703886e38"
      },
      "source": [
        "num1 = 1\n",
        "num2 = 2\n",
        "add = num1+num2\n",
        "print(\"sum of {0} and {1} is {2}\".format(num1,num2,add))"
      ],
      "execution_count": null,
      "outputs": [
        {
          "output_type": "stream",
          "text": [
            "sum of 1 and 2 is 3\n"
          ],
          "name": "stdout"
        }
      ]
    },
    {
      "cell_type": "code",
      "metadata": {
        "colab": {
          "base_uri": "https://localhost:8080/"
        },
        "id": "fz6jdb3Y1nK-",
        "outputId": "f106f2f0-d188-457c-9f5c-f635193491cb"
      },
      "source": [
        "num1 = int(input('enter the 1st num'))\n",
        "num2 = int(input('enter the 2nd num'))\n",
        "add = num1+num2\n",
        "print(f\"sum of {num1} and {num2} is {add}\")"
      ],
      "execution_count": null,
      "outputs": [
        {
          "output_type": "stream",
          "text": [
            "enter the 1st num876\n",
            "enter the 2nd num789\n",
            "sum of 876 and 789 is 1665\n"
          ],
          "name": "stdout"
        }
      ]
    },
    {
      "cell_type": "code",
      "metadata": {
        "id": "vdkAtCT281mU",
        "colab": {
          "base_uri": "https://localhost:8080/"
        },
        "outputId": "3b3fc5a7-e9af-4ead-bfd9-06f8b58243ca"
      },
      "source": [
        "print(1+2)"
      ],
      "execution_count": null,
      "outputs": [
        {
          "output_type": "stream",
          "text": [
            "3\n"
          ],
          "name": "stdout"
        }
      ]
    },
    {
      "cell_type": "code",
      "metadata": {
        "colab": {
          "base_uri": "https://localhost:8080/"
        },
        "id": "gWhsx3R3P39V",
        "outputId": "63628f5e-f01b-4f8c-d52e-a55d769ab375"
      },
      "source": [
        "a=0\n",
        "while a<5:\n",
        "  print(\"charan\")\n",
        "  a=a+1"
      ],
      "execution_count": null,
      "outputs": [
        {
          "output_type": "stream",
          "text": [
            "charan\n",
            "charan\n",
            "charan\n",
            "charan\n",
            "charan\n"
          ],
          "name": "stdout"
        }
      ]
    },
    {
      "cell_type": "code",
      "metadata": {
        "colab": {
          "base_uri": "https://localhost:8080/"
        },
        "id": "1REFmgl3VRHO",
        "outputId": "3135175b-d580-4bad-ac7c-bc3d1c6c82a7"
      },
      "source": [
        "a=1\n",
        "while a<=10:\n",
        "  print(f\"3X{a}={a*3}\")\n",
        "  a=a+1"
      ],
      "execution_count": null,
      "outputs": [
        {
          "output_type": "stream",
          "text": [
            "3X1=3\n",
            "3X2=6\n",
            "3X3=9\n",
            "3X4=12\n",
            "3X5=15\n",
            "3X6=18\n",
            "3X7=21\n",
            "3X8=24\n",
            "3X9=27\n",
            "3X10=30\n"
          ],
          "name": "stdout"
        }
      ]
    },
    {
      "cell_type": "code",
      "metadata": {
        "colab": {
          "base_uri": "https://localhost:8080/"
        },
        "id": "PQ1HA989XCH3",
        "outputId": "b7d0e4a1-7364-4a6e-ad6f-251335eed1c9"
      },
      "source": [
        "print(\"hello world\")"
      ],
      "execution_count": null,
      "outputs": [
        {
          "output_type": "stream",
          "text": [
            "hello world\n"
          ],
          "name": "stdout"
        }
      ]
    },
    {
      "cell_type": "code",
      "metadata": {
        "id": "Wi5q4X8haQ61",
        "colab": {
          "base_uri": "https://localhost:8080/"
        },
        "outputId": "1a26641f-50f0-4288-f530-4893c63e5065"
      },
      "source": [
        "a=1\n",
        "b=2\n",
        "x=[1,2]\n",
        "type(x)"
      ],
      "execution_count": null,
      "outputs": [
        {
          "output_type": "execute_result",
          "data": {
            "text/plain": [
              "list"
            ]
          },
          "metadata": {
            "tags": []
          },
          "execution_count": 17
        }
      ]
    },
    {
      "cell_type": "code",
      "metadata": {
        "colab": {
          "base_uri": "https://localhost:8080/"
        },
        "id": "lI3bh4vlroGN",
        "outputId": "aff3e927-8872-4a2e-e845-6b9e4e0c1574"
      },
      "source": [
        "a=[1,2,3,4]\n",
        "a.append(6)\n",
        "a"
      ],
      "execution_count": null,
      "outputs": [
        {
          "output_type": "execute_result",
          "data": {
            "text/plain": [
              "[1, 2, 3, 4, 6]"
            ]
          },
          "metadata": {
            "tags": []
          },
          "execution_count": 20
        }
      ]
    },
    {
      "cell_type": "code",
      "metadata": {
        "id": "ZufBWVzDsBvy"
      },
      "source": [
        ""
      ],
      "execution_count": null,
      "outputs": []
    },
    {
      "cell_type": "code",
      "metadata": {
        "colab": {
          "base_uri": "https://localhost:8080/"
        },
        "id": "M_2LuyyisT4U",
        "outputId": "811778d4-c001-4bcd-ab92-f684ca1d6314"
      },
      "source": [
        "a=[1,2,3,4]\n",
        "a.remove(3)\n",
        "a"
      ],
      "execution_count": null,
      "outputs": [
        {
          "output_type": "execute_result",
          "data": {
            "text/plain": [
              "[1, 2, 4]"
            ]
          },
          "metadata": {
            "tags": []
          },
          "execution_count": 21
        }
      ]
    },
    {
      "cell_type": "code",
      "metadata": {
        "id": "OuIbCC6RsQjm",
        "colab": {
          "base_uri": "https://localhost:8080/"
        },
        "outputId": "27f4a29a-edb1-46b1-9919-7649d60d139b"
      },
      "source": [
        "a=\"Hello ,world\"\n",
        "print(a[1])"
      ],
      "execution_count": null,
      "outputs": [
        {
          "output_type": "stream",
          "text": [
            "e\n"
          ],
          "name": "stdout"
        }
      ]
    },
    {
      "cell_type": "code",
      "metadata": {
        "colab": {
          "base_uri": "https://localhost:8080/"
        },
        "id": "Z8ycm2cMsS_t",
        "outputId": "9054c2ce-3e4f-4a49-b054-c47c977d593d"
      },
      "source": [
        "a=\"Hello ,world\"\n",
        "print(a[2:5])"
      ],
      "execution_count": null,
      "outputs": [
        {
          "output_type": "stream",
          "text": [
            "llo\n"
          ],
          "name": "stdout"
        }
      ]
    },
    {
      "cell_type": "code",
      "metadata": {
        "colab": {
          "base_uri": "https://localhost:8080/"
        },
        "id": "r0wawVWnsgks",
        "outputId": "e3d0883b-6107-4a27-f0df-0a9d5a4992f8"
      },
      "source": [
        "a=\" Hello ,world \"\n",
        "print(a)\n"
      ],
      "execution_count": null,
      "outputs": [
        {
          "output_type": "stream",
          "text": [
            " Hello ,world \n"
          ],
          "name": "stdout"
        }
      ]
    },
    {
      "cell_type": "code",
      "metadata": {
        "colab": {
          "base_uri": "https://localhost:8080/"
        },
        "id": "YMlNOugns0DA",
        "outputId": "a29033dc-da59-413c-9535-70b7f5415fac"
      },
      "source": [
        "a=\" Hello ,world \"\n",
        "print(a.strip())"
      ],
      "execution_count": null,
      "outputs": [
        {
          "output_type": "stream",
          "text": [
            "Hello ,world\n"
          ],
          "name": "stdout"
        }
      ]
    },
    {
      "cell_type": "code",
      "metadata": {
        "colab": {
          "base_uri": "https://localhost:8080/"
        },
        "id": "S04AQDdss8QK",
        "outputId": "31f27bb7-6c25-4327-a12a-c195597c1570"
      },
      "source": [
        "a=\"Hello ,world\"\n",
        "print(len(a))"
      ],
      "execution_count": null,
      "outputs": [
        {
          "output_type": "stream",
          "text": [
            "12\n"
          ],
          "name": "stdout"
        }
      ]
    },
    {
      "cell_type": "code",
      "metadata": {
        "colab": {
          "base_uri": "https://localhost:8080/"
        },
        "id": "2MgazrLAtHK6",
        "outputId": "55842ee1-1080-42a8-f0ab-e4dcb24a0fcf"
      },
      "source": [
        "a=\"Hello ,world\"\n",
        "print(a.lower())"
      ],
      "execution_count": null,
      "outputs": [
        {
          "output_type": "stream",
          "text": [
            "hello ,world\n"
          ],
          "name": "stdout"
        }
      ]
    },
    {
      "cell_type": "code",
      "metadata": {
        "colab": {
          "base_uri": "https://localhost:8080/"
        },
        "id": "i4IBayB8tXfk",
        "outputId": "eb1ff3c5-0d80-499f-ad1f-cc3c39534c68"
      },
      "source": [
        "a=\"Hello ,world\"\n",
        "print(a.upper())"
      ],
      "execution_count": null,
      "outputs": [
        {
          "output_type": "stream",
          "text": [
            "HELLO ,WORLD\n"
          ],
          "name": "stdout"
        }
      ]
    },
    {
      "cell_type": "code",
      "metadata": {
        "colab": {
          "base_uri": "https://localhost:8080/"
        },
        "id": "S_OGx-ndtd8o",
        "outputId": "5e4a4b2d-6619-46b1-a71a-90290fad7015"
      },
      "source": [
        "a=\"Hellp ,wprld\"\n",
        "print(a.replace(\"p\",\"o\"))"
      ],
      "execution_count": null,
      "outputs": [
        {
          "output_type": "stream",
          "text": [
            "Hello ,world\n"
          ],
          "name": "stdout"
        }
      ]
    },
    {
      "cell_type": "markdown",
      "metadata": {
        "id": "TJL8_Fr2t2cp"
      },
      "source": [
        "lists\n"
      ]
    },
    {
      "cell_type": "code",
      "metadata": {
        "colab": {
          "base_uri": "https://localhost:8080/"
        },
        "id": "FMChf0JytvKR",
        "outputId": "40d15b6a-f99f-4d7b-e885-134c484c1d99"
      },
      "source": [
        "list=[\"apple\",\"banana\",\"cherry\"]\n",
        "print(list)"
      ],
      "execution_count": null,
      "outputs": [
        {
          "output_type": "stream",
          "text": [
            "['apple', 'banana', 'cherry']\n"
          ],
          "name": "stdout"
        }
      ]
    },
    {
      "cell_type": "code",
      "metadata": {
        "colab": {
          "base_uri": "https://localhost:8080/"
        },
        "id": "58LFiTumt003",
        "outputId": "8356304b-27e5-40cd-d0f6-1aad21d27455"
      },
      "source": [
        "list=[\"apple\",\"banana\",\"cherry\"]\n",
        "print(list[1])"
      ],
      "execution_count": null,
      "outputs": [
        {
          "output_type": "stream",
          "text": [
            "banana\n"
          ],
          "name": "stdout"
        }
      ]
    },
    {
      "cell_type": "code",
      "metadata": {
        "colab": {
          "base_uri": "https://localhost:8080/"
        },
        "id": "X6uKuQRauZOH",
        "outputId": "9b97fe70-01e4-49fc-f5a4-b4cd96148640"
      },
      "source": [
        "list=[\"apple\",\"banana\",\"cherry\"]\n",
        "list[1]=\"mango\"\n",
        "print(list)"
      ],
      "execution_count": null,
      "outputs": [
        {
          "output_type": "stream",
          "text": [
            "['apple', 'mango', 'cherry']\n"
          ],
          "name": "stdout"
        }
      ]
    },
    {
      "cell_type": "markdown",
      "metadata": {
        "id": "gqtwvQW5u0r_"
      },
      "source": [
        "loops"
      ]
    },
    {
      "cell_type": "code",
      "metadata": {
        "colab": {
          "base_uri": "https://localhost:8080/"
        },
        "id": "fcLMK6nFu4W_",
        "outputId": "ac597dda-9664-4052-ca73-5b6361ff345d"
      },
      "source": [
        "list=[\"apple\",\"banana\",\"cherry\"]\n",
        "for x in list:\n",
        "  print(x)"
      ],
      "execution_count": null,
      "outputs": [
        {
          "output_type": "stream",
          "text": [
            "apple\n",
            "banana\n",
            "cherry\n"
          ],
          "name": "stdout"
        }
      ]
    },
    {
      "cell_type": "code",
      "metadata": {
        "colab": {
          "base_uri": "https://localhost:8080/"
        },
        "id": "DqrQzlyVuuZl",
        "outputId": "84e8c82a-bf3d-4078-a7b3-7eda775bd243"
      },
      "source": [
        "list=[\"apple\",\"banana\",\"cherry\",\"mango\"]\n",
        "if \"mango\" in  list:\n",
        "  print(\"yes,'mango' is  in the list\")"
      ],
      "execution_count": null,
      "outputs": [
        {
          "output_type": "stream",
          "text": [
            "yes,'mango' is  in the list\n"
          ],
          "name": "stdout"
        }
      ]
    },
    {
      "cell_type": "code",
      "metadata": {
        "id": "XIg_Uf8PxTXX"
      },
      "source": [
        ""
      ],
      "execution_count": null,
      "outputs": []
    },
    {
      "cell_type": "markdown",
      "metadata": {
        "id": "JPh8SvLNt0Ap"
      },
      "source": [
        ""
      ]
    }
  ]
}